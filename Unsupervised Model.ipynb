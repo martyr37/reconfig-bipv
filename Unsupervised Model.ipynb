{
 "cells": [
  {
   "cell_type": "code",
   "execution_count": 212,
   "id": "b1495b69",
   "metadata": {},
   "outputs": [],
   "source": [
    "from matplotlib import pyplot as plt\n",
    "import numpy as np\n",
    "import random\n",
    "import csv\n",
    "import pandas as pd\n",
    "\n",
    "import torch\n",
    "import torch.nn as nn\n",
    "import torch.nn.functional as F\n",
    "import torchvision\n",
    "from torchvision import datasets, transforms\n",
    "from torchvision.utils import save_image\n",
    "\n",
    "from solar_module import SolarModule, generate_shading, generate_gaussian\n",
    "from string_to_embedding import string_to_embedding, super_to_embedding"
   ]
  },
  {
   "cell_type": "code",
   "execution_count": 213,
   "id": "efc84d64",
   "metadata": {},
   "outputs": [
    {
     "name": "stdout",
     "output_type": "stream",
     "text": [
      "Model(\n",
      "  (conv1): Conv2d(1, 8, kernel_size=(3, 3), stride=(1, 1), padding=(1, 1))\n",
      "  (conv2): Conv2d(8, 32, kernel_size=(3, 3), stride=(1, 1), padding=(1, 1))\n",
      "  (fc2): Linear(in_features=288, out_features=243, bias=True)\n",
      ")\n"
     ]
    }
   ],
   "source": [
    "class Model(nn.Module):\n",
    "    def __init__(self, imgchannels=1, fdim=8, zdim=32, kern=3, imgshape=(3,3), stride=1, pad=1):\n",
    "        \n",
    "        super(Model, self).__init__()\n",
    "        \n",
    "        # First 2D convolutional layer, taking in 1 input channel (image),\n",
    "        # outputting 8 convolutional features, with a square kernel size of 2\n",
    "        self.conv1 = nn.Conv2d(imgchannels, fdim, kern, stride, pad) # (1, 8, 3, 1)\n",
    "\n",
    "        # Second 2D convolutional layer, taking in the 8 input layers,\n",
    "        # outputting 32 convolutional features, with a square kernel size of 2\n",
    "        self.conv2 = nn.Conv2d(fdim, zdim, kern, stride, pad) # (8, 32, 3, 1, 1)\n",
    "\n",
    "        # Designed to ensure that adjacent pixels are either all 0s or all active\n",
    "        # with an input probability\n",
    "        #self.dropout1 = nn.Dropout2d(0.25)\n",
    "        #self.dropout2 = nn.Dropout2d(0.5)\n",
    "\n",
    "        # First fully connected layer\n",
    "        #self.fc1 = nn.Linear(zdim, ldim)\n",
    "        # Second fully connected layer that outputs our 10 labels\n",
    "        \n",
    "        ldim = zdim*imgshape[0]*imgshape[1]\n",
    "        outdim = (imgshape[0]*imgshape[1])**2*3\n",
    "        self.fc2 = nn.Linear(ldim, outdim)\n",
    "        \n",
    "    def forward(self, x):\n",
    "        x = self.conv1(x)\n",
    "        x = F.relu(x)\n",
    "        print(x.shape)\n",
    "        \n",
    "        x = self.conv2(x)\n",
    "        x = F.relu(x)\n",
    "        print(x.shape)\n",
    "        \n",
    "        #x = self.dropout1(x)\n",
    "        x = torch.flatten(x, 1)\n",
    "        print(x.shape)\n",
    "        \n",
    "        #x = self.fc1(x)\n",
    "        #x = F.sigmoid(x)\n",
    "        #print(x.shape)\n",
    "        #x = self.dropout2(x)\n",
    "        x = self.fc2(x)\n",
    "        print(x.shape)\n",
    "        \n",
    "        x = F.relu(x, 1) \n",
    "        #x = torch.bool(x)\n",
    "        return x\n",
    "\n",
    "model = Model()\n",
    "print(model)"
   ]
  },
  {
   "cell_type": "code",
   "execution_count": 214,
   "id": "3a8a89e1",
   "metadata": {},
   "outputs": [
    {
     "data": {
      "text/plain": [
       "<matplotlib.image.AxesImage at 0x153fc9e80>"
      ]
     },
     "execution_count": 214,
     "metadata": {},
     "output_type": "execute_result"
    },
    {
     "data": {
      "image/png": "[encoded data removed]",
      "text/plain": [
       "<Figure size 432x288 with 1 Axes>"
      ]
     },
     "metadata": {
      "needs_background": "light"
     },
     "output_type": "display_data"
    }
   ],
   "source": [
    "rand_smap = generate_gaussian(10, 3, 3)\n",
    "plt.imshow(rand_smap)"
   ]
  },
  {
   "cell_type": "code",
   "execution_count": 215,
   "id": "4e5d12bb",
   "metadata": {},
   "outputs": [
    {
     "name": "stdout",
     "output_type": "stream",
     "text": [
      "tensor([[[[ 0.0000, 10.0000, 10.0000],\n",
      "          [10.0000, 10.0000,  7.7586],\n",
      "          [10.0000, 10.0000, 10.0000]]]])\n"
     ]
    }
   ],
   "source": [
    "rand_smap = torch.Tensor(rand_smap.reshape(1, 1, rand_smap.shape[0], rand_smap.shape[1]))\n",
    "print(rand_smap)"
   ]
  },
  {
   "cell_type": "code",
   "execution_count": 217,
   "id": "9012d420",
   "metadata": {},
   "outputs": [
    {
     "name": "stdout",
     "output_type": "stream",
     "text": [
      "torch.Size([1, 8, 3, 3])\n",
      "torch.Size([1, 32, 3, 3])\n",
      "torch.Size([1, 288])\n",
      "torch.Size([1, 243])\n",
      "tensor([[3.1990e-01, 0.0000e+00, 0.0000e+00, 0.0000e+00, 6.0551e-01, 5.1601e-01,\n",
      "         0.0000e+00, 1.1015e+00, 0.0000e+00, 1.0922e+00, 0.0000e+00, 0.0000e+00,\n",
      "         0.0000e+00, 0.0000e+00, 5.6377e-01, 0.0000e+00, 0.0000e+00, 0.0000e+00,\n",
      "         0.0000e+00, 0.0000e+00, 3.9118e-01, 0.0000e+00, 0.0000e+00, 3.4749e-01,\n",
      "         1.0720e-01, 3.5403e-01, 0.0000e+00, 0.0000e+00, 0.0000e+00, 4.7233e-01,\n",
      "         7.1943e-01, 4.9259e-01, 0.0000e+00, 0.0000e+00, 0.0000e+00, 6.4520e-01,\n",
      "         0.0000e+00, 1.1314e+00, 5.8017e-01, 0.0000e+00, 1.1342e-01, 0.0000e+00,\n",
      "         0.0000e+00, 0.0000e+00, 6.5748e-01, 0.0000e+00, 0.0000e+00, 1.9361e-01,\n",
      "         0.0000e+00, 3.5817e-01, 0.0000e+00, 4.5273e-02, 0.0000e+00, 2.5902e-01,\n",
      "         4.9752e-01, 3.1498e-01, 1.2514e+00, 1.3888e-01, 0.0000e+00, 5.5972e-01,\n",
      "         0.0000e+00, 0.0000e+00, 0.0000e+00, 8.0306e-01, 0.0000e+00, 0.0000e+00,\n",
      "         0.0000e+00, 5.8657e-01, 3.6538e-01, 0.0000e+00, 7.3542e-01, 0.0000e+00,\n",
      "         3.6948e-01, 6.1853e-01, 0.0000e+00, 5.1347e-01, 0.0000e+00, 4.4234e-01,\n",
      "         1.1531e+00, 3.5115e-01, 8.4347e-02, 0.0000e+00, 2.7360e-01, 0.0000e+00,\n",
      "         0.0000e+00, 2.9540e-01, 0.0000e+00, 0.0000e+00, 2.6438e-01, 0.0000e+00,\n",
      "         7.5769e-01, 0.0000e+00, 0.0000e+00, 0.0000e+00, 0.0000e+00, 0.0000e+00,\n",
      "         0.0000e+00, 3.5021e-01, 0.0000e+00, 0.0000e+00, 0.0000e+00, 0.0000e+00,\n",
      "         3.1429e-01, 0.0000e+00, 7.4107e-02, 4.7015e-01, 9.8220e-01, 1.1811e-02,\n",
      "         0.0000e+00, 0.0000e+00, 2.4652e-01, 8.2667e-01, 0.0000e+00, 0.0000e+00,\n",
      "         0.0000e+00, 7.3945e-01, 0.0000e+00, 0.0000e+00, 6.2364e-01, 9.3467e-01,\n",
      "         2.7094e-02, 0.0000e+00, 6.9975e-01, 7.5740e-01, 4.8405e-01, 9.8707e-04,\n",
      "         0.0000e+00, 4.0192e-01, 0.0000e+00, 0.0000e+00, 0.0000e+00, 0.0000e+00,\n",
      "         2.3077e-01, 0.0000e+00, 4.7504e-01, 0.0000e+00, 6.5782e-03, 0.0000e+00,\n",
      "         0.0000e+00, 0.0000e+00, 4.7741e-01, 1.3676e-01, 0.0000e+00, 0.0000e+00,\n",
      "         0.0000e+00, 2.5470e-01, 4.3778e-01, 1.0505e-01, 8.3189e-02, 0.0000e+00,\n",
      "         0.0000e+00, 0.0000e+00, 0.0000e+00, 0.0000e+00, 0.0000e+00, 0.0000e+00,\n",
      "         0.0000e+00, 3.8921e-01, 3.9669e-02, 7.7023e-01, 8.7002e-02, 1.7017e-01,\n",
      "         1.8657e-01, 0.0000e+00, 0.0000e+00, 0.0000e+00, 2.2335e-01, 0.0000e+00,\n",
      "         0.0000e+00, 0.0000e+00, 1.0037e-01, 7.7482e-01, 0.0000e+00, 0.0000e+00,\n",
      "         1.3342e-01, 0.0000e+00, 5.7483e-01, 0.0000e+00, 0.0000e+00, 0.0000e+00,\n",
      "         0.0000e+00, 4.6430e-01, 1.2061e+00, 5.5317e-01, 1.0286e+00, 0.0000e+00,\n",
      "         2.2511e-01, 3.0520e-01, 2.5172e-02, 0.0000e+00, 0.0000e+00, 7.9014e-01,\n",
      "         0.0000e+00, 3.0235e-01, 0.0000e+00, 0.0000e+00, 5.5354e-02, 0.0000e+00,\n",
      "         0.0000e+00, 0.0000e+00, 0.0000e+00, 0.0000e+00, 0.0000e+00, 5.0795e-01,\n",
      "         0.0000e+00, 0.0000e+00, 2.4092e-02, 5.7473e-02, 6.3529e-01, 5.0042e-02,\n",
      "         3.2126e-01, 0.0000e+00, 6.7090e-01, 0.0000e+00, 2.3172e-01, 0.0000e+00,\n",
      "         0.0000e+00, 0.0000e+00, 1.8727e-02, 0.0000e+00, 0.0000e+00, 0.0000e+00,\n",
      "         4.6025e-01, 4.1561e-01, 5.9465e-01, 4.3694e-01, 0.0000e+00, 0.0000e+00,\n",
      "         0.0000e+00, 3.7617e-01, 0.0000e+00, 9.4385e-01, 1.0244e+00, 0.0000e+00,\n",
      "         5.3891e-01, 1.0042e-02, 0.0000e+00, 1.9339e-02, 1.0005e+00, 4.5534e-01,\n",
      "         0.0000e+00, 6.1636e-01, 1.0536e+00]], grad_fn=<ReluBackward0>)\n",
      "torch.Size([1, 243])\n"
     ]
    }
   ],
   "source": [
    "result = model(rand_smap)\n",
    "print(result)\n",
    "print(result.shape)"
   ]
  },
  {
   "cell_type": "code",
   "execution_count": 218,
   "id": "c8f61910",
   "metadata": {},
   "outputs": [
    {
     "name": "stdout",
     "output_type": "stream",
     "text": [
      "torch.Size([1, 8, 3, 3])\n",
      "torch.Size([1, 32, 3, 3])\n",
      "torch.Size([1, 288])\n",
      "torch.Size([1, 243])\n",
      "tensor([[ True, False, False, False,  True,  True, False,  True, False,  True,\n",
      "         False, False, False, False,  True, False, False, False, False, False,\n",
      "          True, False, False,  True,  True,  True, False, False, False,  True,\n",
      "          True,  True, False, False, False,  True, False,  True,  True, False,\n",
      "          True, False, False, False,  True, False, False,  True, False,  True,\n",
      "         False,  True, False,  True,  True,  True,  True,  True, False,  True,\n",
      "         False, False, False,  True, False, False, False,  True,  True, False,\n",
      "          True, False,  True,  True, False,  True, False,  True,  True,  True,\n",
      "          True, False,  True, False, False,  True, False, False,  True, False,\n",
      "          True, False, False, False, False, False, False,  True, False, False,\n",
      "         False, False,  True, False,  True,  True,  True,  True, False, False,\n",
      "          True,  True, False, False, False,  True, False, False,  True,  True,\n",
      "          True, False,  True,  True,  True,  True, False,  True, False, False,\n",
      "         False, False,  True, False,  True, False,  True, False, False, False,\n",
      "          True,  True, False, False, False,  True,  True,  True,  True, False,\n",
      "         False, False, False, False, False, False, False,  True,  True,  True,\n",
      "          True,  True,  True, False, False, False,  True, False, False, False,\n",
      "          True,  True, False, False,  True, False,  True, False, False, False,\n",
      "         False,  True,  True,  True,  True, False,  True,  True,  True, False,\n",
      "         False,  True, False,  True, False, False,  True, False, False, False,\n",
      "         False, False, False,  True, False, False,  True,  True,  True,  True,\n",
      "          True, False,  True, False,  True, False, False, False,  True, False,\n",
      "         False, False,  True,  True,  True,  True, False, False, False,  True,\n",
      "         False,  True,  True, False,  True,  True, False,  True,  True,  True,\n",
      "         False,  True,  True]])\n"
     ]
    },
    {
     "ename": "ValueError",
     "evalue": "Invalid embedding.",
     "output_type": "error",
     "traceback": [
      "\u001b[0;31m---------------------------------------------------------------------------\u001b[0m",
      "\u001b[0;31mValueError\u001b[0m                                Traceback (most recent call last)",
      "Input \u001b[0;32mIn [218]\u001b[0m, in \u001b[0;36m<cell line: 13>\u001b[0;34m()\u001b[0m\n\u001b[1;32m     11\u001b[0m moduleobj\u001b[38;5;241m.\u001b[39membedding \u001b[38;5;241m=\u001b[39m embedding\n\u001b[1;32m     12\u001b[0m moduleobj\u001b[38;5;241m.\u001b[39mfilter_embedding()\n\u001b[0;32m---> 13\u001b[0m \u001b[43mmoduleobj\u001b[49m\u001b[38;5;241;43m.\u001b[39;49m\u001b[43mmake_netlist\u001b[49m\u001b[43m(\u001b[49m\u001b[43m)\u001b[49m\n",
      "File \u001b[0;32m~/Documents/GitHub/reconfig-bipv/solar_module.py:117\u001b[0m, in \u001b[0;36mSolarModule.make_netlist\u001b[0;34m(self)\u001b[0m\n\u001b[1;32m    115\u001b[0m \u001b[38;5;28;01mdef\u001b[39;00m \u001b[38;5;21mmake_netlist\u001b[39m(\u001b[38;5;28mself\u001b[39m):        \n\u001b[1;32m    116\u001b[0m     \u001b[38;5;28;01mif\u001b[39;00m \u001b[38;5;28mself\u001b[39m\u001b[38;5;241m.\u001b[39mcheck_embedding() \u001b[38;5;241m!=\u001b[39m \u001b[38;5;28;01mTrue\u001b[39;00m:\n\u001b[0;32m--> 117\u001b[0m         \u001b[38;5;28;01mraise\u001b[39;00m \u001b[38;5;167;01mValueError\u001b[39;00m(\u001b[38;5;124m\"\u001b[39m\u001b[38;5;124mInvalid embedding.\u001b[39m\u001b[38;5;124m\"\u001b[39m)\n\u001b[1;32m    119\u001b[0m     circuit \u001b[38;5;241m=\u001b[39m Circuit(\u001b[38;5;124m'\u001b[39m\u001b[38;5;124mNetlist\u001b[39m\u001b[38;5;124m'\u001b[39m)\n\u001b[1;32m    121\u001b[0m     \u001b[38;5;28;01mglobal\u001b[39;00m node_dict\n",
      "\u001b[0;31mValueError\u001b[0m: Invalid embedding."
     ]
    }
   ],
   "source": [
    "## convert output to embedding using SolarModule object\n",
    "model.eval()\n",
    "with torch.no_grad():\n",
    "    out_data = model(rand_smap)\n",
    "    out_data = out_data.type(torch.bool)\n",
    "    print(out_data)\n",
    "    \n",
    "    embedding = out_data.reshape(3, 3, 3, 3, 3).cpu().numpy()\n",
    "    \n",
    "moduleobj = SolarModule(3,3)\n",
    "moduleobj.embedding = embedding\n",
    "moduleobj.filter_embedding()\n",
    "moduleobj.make_netlist()\n"
   ]
  },
  {
   "cell_type": "code",
   "execution_count": null,
   "id": "fdf9cefd",
   "metadata": {},
   "outputs": [],
   "source": []
  }
 ],
 "metadata": {
  "kernelspec": {
   "display_name": "Python 3 (ipykernel)",
   "language": "python",
   "name": "python3"
  },
  "language_info": {
   "codemirror_mode": {
    "name": "ipython",
    "version": 3
   },
   "file_extension": ".py",
   "mimetype": "text/x-python",
   "name": "python",
   "nbconvert_exporter": "python",
   "pygments_lexer": "ipython3",
   "version": "3.9.13"
  }
 },
 "nbformat": 4,
 "nbformat_minor": 5
}
