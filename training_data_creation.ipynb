{
 "cells": [
  {
   "cell_type": "markdown",
   "id": "36be64f3",
   "metadata": {},
   "source": [
    "## Imports"
   ]
  },
  {
   "cell_type": "code",
   "execution_count": null,
   "id": "ca8dfe62",
   "metadata": {},
   "outputs": [],
   "source": [
    "import pandas as pd\n",
    "import numpy as np\n",
    "import matplotlib.pyplot as plt\n",
    "import csv\n",
    "import warnings\n",
    "\n",
    "from PySpice.Spice.Netlist import Circuit, SubCircuit\n",
    "from PySpice.Unit import *\n",
    "import PySpice.Logging.Logging as Logging\n",
    "from solar_cell import SolarCell\n",
    "from solar_module import SolarModule, generate_gaussian\n",
    "from string_to_embedding import string_to_embedding, super_to_embedding\n",
    "from circuit_embedding import CircuitEmbedding"
   ]
  },
  {
   "cell_type": "markdown",
   "id": "4ab61789",
   "metadata": {},
   "source": [
    "## Reading Shading Map Data"
   ]
  },
  {
   "cell_type": "code",
   "execution_count": null,
   "id": "c930ef23",
   "metadata": {},
   "outputs": [],
   "source": [
    "read_in = pd.read_csv('shading_series.csv', header=0, names=['Shading Map'], usecols=[1])\n",
    "print(read_in)\n",
    "def convert_to_array(string):\n",
    "    a = np.matrix(string).reshape(10, 6)\n",
    "    a = np.array(a)\n",
    "    return a\n",
    "shading_series = [convert_to_array(s) for s in read_in['Shading Map']]"
   ]
  },
  {
   "cell_type": "code",
   "execution_count": null,
   "id": "83030760",
   "metadata": {},
   "outputs": [],
   "source": [
    "r = np.random.randint(0, 10000)\n",
    "plt.title(\"Shading Map \" + str(r))\n",
    "plt.imshow(shading_series[r])"
   ]
  },
  {
   "cell_type": "markdown",
   "id": "67380bc9",
   "metadata": {},
   "source": [
    "## Reading in top 1000 circuit configurations"
   ]
  },
  {
   "cell_type": "code",
   "execution_count": null,
   "id": "fc05a233",
   "metadata": {},
   "outputs": [],
   "source": [
    "read_in = pd.read_csv('embedding_series.csv', header=0, names=['SuperString'], usecols=[1])\n",
    "configurations = [x for x in read_in['SuperString']]\n",
    "print(read_in)"
   ]
  },
  {
   "cell_type": "code",
   "execution_count": null,
   "id": "8b8f9deb",
   "metadata": {},
   "outputs": [],
   "source": [
    "s = np.random.randint(0, 999)\n",
    "foo = super_to_embedding(10, 6, configurations[s])\n",
    "foo.shading_map = shading_series[r]\n",
    "foo.make_netlist()\n",
    "foo.simulate()\n",
    "foo.plot_netlist(50, 250)\n",
    "print(foo.MPP)"
   ]
  },
  {
   "cell_type": "markdown",
   "id": "bc306c75",
   "metadata": {},
   "source": [
    "## Creating Training Dataset"
   ]
  },
  {
   "cell_type": "code",
   "execution_count": null,
   "id": "e82409eb",
   "metadata": {},
   "outputs": [],
   "source": [
    "failed_strings = []\n",
    "outfile = 'training_data.csv'\n",
    "warnings.filterwarnings(\"ignore\")\n",
    "with open(outfile, 'a', newline='') as f:\n",
    "    writer = csv.writer(f)\n",
    "    header = ['Shading Map #', 'SuperString #', 'MPP', 'VMP', 'IMP', 'VOC', 'ISC', 'FF']\n",
    "    writer.writerow(header)\n",
    "    for map_no in range(10, 10):\n",
    "        shading_map = shading_series[map_no]\n",
    "        for configuration_no in range(0, len(configurations)):\n",
    "            superstring = configurations[configuration_no]\n",
    "            moduleobj = super_to_embedding(10, 6, superstring)\n",
    "            moduleobj.shading_map = shading_map\n",
    "            moduleobj.make_netlist()\n",
    "            try:\n",
    "                moduleobj.simulate()\n",
    "                row = [map_no, configuration_no, moduleobj.MPP, moduleobj.VMP, moduleobj.IMP, moduleobj.VOC,\\\n",
    "                      moduleobj.ISC, moduleobj.FF]\n",
    "                writer.writerow(row)\n",
    "            except:\n",
    "                failed_strings.append(superstring)\n",
    "            if configuration_no % 100 == 0:\n",
    "                print('Completed configuration', configuration_no, end=' ')\n",
    "        print('Completed shading map', map_no, end = ' ')"
   ]
  },
  {
   "cell_type": "code",
   "execution_count": null,
   "id": "b0e9c86e",
   "metadata": {},
   "outputs": [],
   "source": [
    "print(len(failed_strings))"
   ]
  }
 ],
 "metadata": {
  "kernelspec": {
   "display_name": "Python 3 (ipykernel)",
   "language": "python",
   "name": "python3"
  },
  "language_info": {
   "codemirror_mode": {
    "name": "ipython",
    "version": 3
   },
   "file_extension": ".py",
   "mimetype": "text/x-python",
   "name": "python",
   "nbconvert_exporter": "python",
   "pygments_lexer": "ipython3",
   "version": "3.9.13"
  }
 },
 "nbformat": 4,
 "nbformat_minor": 5
}
