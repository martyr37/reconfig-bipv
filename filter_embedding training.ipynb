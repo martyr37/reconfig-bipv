{
 "cells": [
  {
   "cell_type": "code",
   "execution_count": 4,
   "id": "f0cb47d6",
   "metadata": {},
   "outputs": [],
   "source": [
    "from matplotlib import pyplot as plt\n",
    "import numpy as np\n",
    "import random\n",
    "import csv\n",
    "import pandas as pd\n",
    "\n",
    "import torch\n",
    "from torch.utils.data import Dataset, DataLoader\n",
    "import torch.nn as nn\n",
    "import torch.nn.functional as F\n",
    "import torchvision\n",
    "from torchvision import datasets, transforms\n",
    "from torchvision.utils import save_image\n",
    "\n",
    "from solar_module import SolarModule, generate_shading, generate_gaussian\n",
    "from solar_cell import all_series_bypass, SP_interconnection, TCT_interconnection\n",
    "from string_to_embedding import string_to_embedding, super_to_embedding\n",
    "\n",
    "device = torch.device('cuda' if torch.cuda.is_available() else 'cpu')"
   ]
  },
  {
   "cell_type": "code",
   "execution_count": 5,
   "id": "45e8949a",
   "metadata": {},
   "outputs": [
    {
     "name": "stdout",
     "output_type": "stream",
     "text": [
      "Model(\n",
      "  (conv1): Conv2d(1, 8, kernel_size=(3, 3), stride=(1, 1), padding=(1, 1))\n",
      "  (conv2): Conv2d(8, 32, kernel_size=(3, 3), stride=(1, 1), padding=(1, 1))\n",
      "  (fc1): Linear(in_features=1920, out_features=4096, bias=True)\n",
      "  (fc3): Linear(in_features=4096, out_features=4096, bias=True)\n",
      "  (fc2): Linear(in_features=4096, out_features=10920, bias=True)\n",
      ")\n",
      "cpu\n"
     ]
    }
   ],
   "source": [
    "class Model(nn.Module):\n",
    "    def __init__(self, imgchannels=1, fdim=8, zdim=32, mdim=4096, kern=3, imgshape=(3,3), stride=1, pad=1):\n",
    "        \n",
    "        super(Model, self).__init__()\n",
    "        \n",
    "        # First 2D convolutional layer, taking in 1 input channel (image),\n",
    "        # outputting 8 convolutional features, with a square kernel size of 2\n",
    "        self.conv1 = nn.Conv2d(imgchannels, fdim, kern, stride, pad) # (1, 8, 3, 1)\n",
    "\n",
    "        # Second 2D convolutional layer, taking in the 8 input layers,\n",
    "        # outputting 32 convolutional features, with a square kernel size of 2\n",
    "        self.conv2 = nn.Conv2d(fdim, zdim, kern, stride, pad) # (8, 32, 3, 1, 1)\n",
    "\n",
    "        # Designed to ensure that adjacent pixels are either all 0s or all active\n",
    "        # with an input probability\n",
    "        #self.dropout1 = nn.Dropout2d(0.25)\n",
    "        #self.dropout2 = nn.Dropout2d(0.5)\n",
    "        \n",
    "        ldim = zdim*imgshape[0]*imgshape[1]\n",
    "        self.ldim = ldim\n",
    "\n",
    "        # First fully connected layer\n",
    "        self.fc1 = nn.Linear(ldim, mdim) #add a middle linear layer, with size \n",
    "        self.fc3 = nn.Linear(mdim, mdim)\n",
    "        outdim = (imgshape[0]*imgshape[1])**2*3+imgshape[0]*imgshape[1]*2\n",
    "        #outdim = (imgshape[0]*imgshape[1])**2*3\n",
    "        self.fc2 = nn.Linear(mdim, outdim)\n",
    "\n",
    "    def forward(self, x):\n",
    "        x = self.conv1(x)\n",
    "        x = F.relu(x)\n",
    "        #print(x.shape)\n",
    "        \n",
    "        x = self.conv2(x)\n",
    "        x = F.relu(x)\n",
    "        #print(x.shape)\n",
    "        \n",
    "        #x = self.dropout1(x)\n",
    "        x = x.view(-1, self.ldim)\n",
    "        #print(x.shape)\n",
    "        \n",
    "        x = self.fc1(x)\n",
    "        x = F.relu(x)\n",
    "        x = self.fc3(x)\n",
    "        x = F.relu(x)\n",
    "        #print(x.shape)\n",
    "        #x = self.dropout2(x)\n",
    "        x = self.fc2(x)\n",
    "        #print(x.shape)\n",
    "        \n",
    "        x = F.relu(x)\n",
    "        #x = x.bool()\n",
    "        \n",
    "        return x\n",
    "\n",
    "model = Model(imgshape=(10, 6)).to(device)\n",
    "print(model)\n",
    "print(device)"
   ]
  },
  {
   "cell_type": "code",
   "execution_count": null,
   "id": "f54b0224",
   "metadata": {},
   "outputs": [],
   "source": [
    "\"\"\"Create Dataset of Random Shading Maps labelled with  \"\"\""
   ]
  }
 ],
 "metadata": {
  "kernelspec": {
   "display_name": "Python 3 (ipykernel)",
   "language": "python",
   "name": "python3"
  },
  "language_info": {
   "codemirror_mode": {
    "name": "ipython",
    "version": 3
   },
   "file_extension": ".py",
   "mimetype": "text/x-python",
   "name": "python",
   "nbconvert_exporter": "python",
   "pygments_lexer": "ipython3",
   "version": "3.9.13"
  }
 },
 "nbformat": 4,
 "nbformat_minor": 5
}
